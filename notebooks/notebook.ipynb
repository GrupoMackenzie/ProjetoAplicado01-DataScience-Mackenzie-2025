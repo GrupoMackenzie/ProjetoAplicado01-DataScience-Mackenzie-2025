{
 "cells": [
  {
   "cell_type": "markdown",
   "metadata": {},
   "source": [
    "# Nosso Notebook de Análise"
   ]
  }
 ],
 "metadata": {},
 "nbformat": 4,
 "nbformat_minor": 5
}
