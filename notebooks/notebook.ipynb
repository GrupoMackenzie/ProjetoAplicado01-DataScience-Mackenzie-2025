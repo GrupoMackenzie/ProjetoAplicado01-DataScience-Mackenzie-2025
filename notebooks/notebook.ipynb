{
 "cells": [
  {
   "cell_type": "markdown",
   "metadata": {},
   "source": [
    "# Nosso Notebook de Análise"
   ]
  },
  {
   "cell_type": "markdown",
   "metadata": {},
   "source": [
    "---\n",
    "\n",
    "<p align=\"center\">\n",
    "  <img src=\"https://github.com/user-attachments/assets/bce12192-a20a-4cf4-a5f5-7e7f445aecaf\" alt=\"Rodapé\" width=\"300\"/>\n",
    "</p>"
   ]
  }
 ],
 "metadata": {},
 "nbformat": 4,
 "nbformat_minor": 5
}
