# %% [markdown]
# # Análise de Dados de Pré-Natal
# 
# **Autor**: Seu Nome  
# **Data**: 2025
# 
# ## Objetivo
# Análise dos dados do sistema de pré-natal.

# %% [code]
# Importação de bibliotecas
import pandas as pd
import matplotlib.pyplot as plt
import seaborn as sns

# %% [code]
# Carregar dados
url = "https://raw.githubusercontent.com/GrupoMackenzie/ProjetoAplicado01-DataScience-Mackenzie-2025/main/datasets/sisprenatal_limpo.csv"
df = pd.read_csv(url, encoding='latin1')

# %% [code]
# Visualização inicial
df.head()

# %% [markdown]
# ## Análise Exploratória

# %% [code]
# Suas análises aqui
# Exemplo: Contagem de consultas
df['QT_CONSULT'].value_counts().plot(kind='bar')
plt.title('Distribuição de Consultas de Pré-Natal')
plt.show()
